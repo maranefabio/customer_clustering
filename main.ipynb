{
 "cells": [
  {
   "cell_type": "code",
   "id": "initial_id",
   "metadata": {
    "collapsed": true,
    "ExecuteTime": {
     "end_time": "2025-01-23T01:51:16.283253Z",
     "start_time": "2025-01-23T01:51:16.279478Z"
    }
   },
   "source": [
    "import polars as pl\n",
    "from enum import Enum\n",
    "from sklearn.preprocessing import StandardScaler\n",
    "from sklearn import metrics\n",
    "from sklearn.cluster import KMeans"
   ],
   "outputs": [],
   "execution_count": 160
  },
  {
   "metadata": {
    "ExecuteTime": {
     "end_time": "2025-01-23T01:51:16.313249Z",
     "start_time": "2025-01-23T01:51:16.309624Z"
    }
   },
   "cell_type": "code",
   "source": [
    "class Config(Enum):\n",
    "    DATA: str = 'files/marketing_campaign.csv'\n",
    "    DATA_SEP: str = '\\t'\n",
    "    CATEGORICAL: list[str] = [\n",
    "        'Education',\n",
    "        'Marital_Status',\n",
    "    ]\n"
   ],
   "id": "8e638bcfd8d1f48a",
   "outputs": [],
   "execution_count": 161
  },
  {
   "metadata": {
    "ExecuteTime": {
     "end_time": "2025-01-23T01:51:16.357355Z",
     "start_time": "2025-01-23T01:51:16.353527Z"
    }
   },
   "cell_type": "code",
   "source": [
    "def load_dataset(path: str, sep: str) -> pl.DataFrame | None:\n",
    "    return pl.read_csv(source=path, separator=sep)"
   ],
   "id": "841652282fd2e154",
   "outputs": [],
   "execution_count": 162
  },
  {
   "metadata": {
    "ExecuteTime": {
     "end_time": "2025-01-23T01:51:16.405769Z",
     "start_time": "2025-01-23T01:51:16.401467Z"
    }
   },
   "cell_type": "code",
   "source": [
    "def preprocess(df: pl.DataFrame) -> pl.DataFrame:\n",
    "    df = df.with_columns(\n",
    "        pl.col('Income').fill_null(pl.col('Income').mean()),\n",
    "        pl.col('Dt_Customer').str.to_date(format='%d-%m-%Y'),\n",
    "    )\n",
    "    return df"
   ],
   "id": "8c08e9a22991efe1",
   "outputs": [],
   "execution_count": 163
  },
  {
   "metadata": {
    "ExecuteTime": {
     "end_time": "2025-01-23T01:51:16.458244Z",
     "start_time": "2025-01-23T01:51:16.451697Z"
    }
   },
   "cell_type": "code",
   "source": [
    "@pl.StringCache()\n",
    "def encode(df: pl.DataFrame) -> list[pl.DataFrame]:\n",
    "    df_encoded = df\n",
    "    for col in Config.CATEGORICAL.value:\n",
    "        df_encoded = df.with_columns(\n",
    "            pl.col(col).cast(pl.Categorical).to_physical().alias(col)\n",
    "        )\n",
    "        df = df.drop(col)\n",
    "\n",
    "    return [df_encoded, df]"
   ],
   "id": "dbd5f4568178ba80",
   "outputs": [],
   "execution_count": 164
  },
  {
   "metadata": {
    "ExecuteTime": {
     "end_time": "2025-01-23T01:51:16.507455Z",
     "start_time": "2025-01-23T01:51:16.503410Z"
    }
   },
   "cell_type": "code",
   "source": [
    "def scale(df: pl.DataFrame) -> pl.DataFrame:\n",
    "    scaler = StandardScaler()\n",
    "    return scaler.fit_transform(df)"
   ],
   "id": "1cd1a090bb49309",
   "outputs": [],
   "execution_count": 165
  },
  {
   "metadata": {
    "ExecuteTime": {
     "end_time": "2025-01-23T01:51:16.562317Z",
     "start_time": "2025-01-23T01:51:16.554712Z"
    }
   },
   "cell_type": "code",
   "source": "df = load_dataset(Config.DATA.value, Config.DATA_SEP.value)",
   "id": "cfe0ff9a10de2530",
   "outputs": [],
   "execution_count": 166
  },
  {
   "metadata": {
    "ExecuteTime": {
     "end_time": "2025-01-23T01:51:16.628063Z",
     "start_time": "2025-01-23T01:51:16.614053Z"
    }
   },
   "cell_type": "code",
   "source": "df.describe()",
   "id": "169f842d245ffeaa",
   "outputs": [
    {
     "data": {
      "text/plain": [
       "shape: (9, 30)\n",
       "┌────────────┬───────────┬───────────┬───────────┬───┬──────────┬───────────┬───────────┬──────────┐\n",
       "│ statistic  ┆ ID        ┆ Year_Birt ┆ Education ┆ … ┆ Complain ┆ Z_CostCon ┆ Z_Revenue ┆ Response │\n",
       "│ ---        ┆ ---       ┆ h         ┆ ---       ┆   ┆ ---      ┆ tact      ┆ ---       ┆ ---      │\n",
       "│ str        ┆ f64       ┆ ---       ┆ str       ┆   ┆ f64      ┆ ---       ┆ f64       ┆ f64      │\n",
       "│            ┆           ┆ f64       ┆           ┆   ┆          ┆ f64       ┆           ┆          │\n",
       "╞════════════╪═══════════╪═══════════╪═══════════╪═══╪══════════╪═══════════╪═══════════╪══════════╡\n",
       "│ count      ┆ 2240.0    ┆ 2240.0    ┆ 2240      ┆ … ┆ 2240.0   ┆ 2240.0    ┆ 2240.0    ┆ 2240.0   │\n",
       "│ null_count ┆ 0.0       ┆ 0.0       ┆ 0         ┆ … ┆ 0.0      ┆ 0.0       ┆ 0.0       ┆ 0.0      │\n",
       "│ mean       ┆ 5592.1598 ┆ 1968.8058 ┆ null      ┆ … ┆ 0.009375 ┆ 3.0       ┆ 11.0      ┆ 0.149107 │\n",
       "│            ┆ 21        ┆ 04        ┆           ┆   ┆          ┆           ┆           ┆          │\n",
       "│ std        ┆ 3246.6621 ┆ 11.984069 ┆ null      ┆ … ┆ 0.096391 ┆ 0.0       ┆ 0.0       ┆ 0.356274 │\n",
       "│            ┆ 98        ┆           ┆           ┆   ┆          ┆           ┆           ┆          │\n",
       "│ min        ┆ 0.0       ┆ 1893.0    ┆ 2n Cycle  ┆ … ┆ 0.0      ┆ 3.0       ┆ 11.0      ┆ 0.0      │\n",
       "│ 25%        ┆ 2829.0    ┆ 1959.0    ┆ null      ┆ … ┆ 0.0      ┆ 3.0       ┆ 11.0      ┆ 0.0      │\n",
       "│ 50%        ┆ 5462.0    ┆ 1970.0    ┆ null      ┆ … ┆ 0.0      ┆ 3.0       ┆ 11.0      ┆ 0.0      │\n",
       "│ 75%        ┆ 8427.0    ┆ 1977.0    ┆ null      ┆ … ┆ 0.0      ┆ 3.0       ┆ 11.0      ┆ 0.0      │\n",
       "│ max        ┆ 11191.0   ┆ 1996.0    ┆ PhD       ┆ … ┆ 1.0      ┆ 3.0       ┆ 11.0      ┆ 1.0      │\n",
       "└────────────┴───────────┴───────────┴───────────┴───┴──────────┴───────────┴───────────┴──────────┘"
      ],
      "text/html": [
       "<div><style>\n",
       ".dataframe > thead > tr,\n",
       ".dataframe > tbody > tr {\n",
       "  text-align: right;\n",
       "  white-space: pre-wrap;\n",
       "}\n",
       "</style>\n",
       "<small>shape: (9, 30)</small><table border=\"1\" class=\"dataframe\"><thead><tr><th>statistic</th><th>ID</th><th>Year_Birth</th><th>Education</th><th>Marital_Status</th><th>Income</th><th>Kidhome</th><th>Teenhome</th><th>Dt_Customer</th><th>Recency</th><th>MntWines</th><th>MntFruits</th><th>MntMeatProducts</th><th>MntFishProducts</th><th>MntSweetProducts</th><th>MntGoldProds</th><th>NumDealsPurchases</th><th>NumWebPurchases</th><th>NumCatalogPurchases</th><th>NumStorePurchases</th><th>NumWebVisitsMonth</th><th>AcceptedCmp3</th><th>AcceptedCmp4</th><th>AcceptedCmp5</th><th>AcceptedCmp1</th><th>AcceptedCmp2</th><th>Complain</th><th>Z_CostContact</th><th>Z_Revenue</th><th>Response</th></tr><tr><td>str</td><td>f64</td><td>f64</td><td>str</td><td>str</td><td>f64</td><td>f64</td><td>f64</td><td>str</td><td>f64</td><td>f64</td><td>f64</td><td>f64</td><td>f64</td><td>f64</td><td>f64</td><td>f64</td><td>f64</td><td>f64</td><td>f64</td><td>f64</td><td>f64</td><td>f64</td><td>f64</td><td>f64</td><td>f64</td><td>f64</td><td>f64</td><td>f64</td><td>f64</td></tr></thead><tbody><tr><td>&quot;count&quot;</td><td>2240.0</td><td>2240.0</td><td>&quot;2240&quot;</td><td>&quot;2240&quot;</td><td>2216.0</td><td>2240.0</td><td>2240.0</td><td>&quot;2240&quot;</td><td>2240.0</td><td>2240.0</td><td>2240.0</td><td>2240.0</td><td>2240.0</td><td>2240.0</td><td>2240.0</td><td>2240.0</td><td>2240.0</td><td>2240.0</td><td>2240.0</td><td>2240.0</td><td>2240.0</td><td>2240.0</td><td>2240.0</td><td>2240.0</td><td>2240.0</td><td>2240.0</td><td>2240.0</td><td>2240.0</td><td>2240.0</td></tr><tr><td>&quot;null_count&quot;</td><td>0.0</td><td>0.0</td><td>&quot;0&quot;</td><td>&quot;0&quot;</td><td>24.0</td><td>0.0</td><td>0.0</td><td>&quot;0&quot;</td><td>0.0</td><td>0.0</td><td>0.0</td><td>0.0</td><td>0.0</td><td>0.0</td><td>0.0</td><td>0.0</td><td>0.0</td><td>0.0</td><td>0.0</td><td>0.0</td><td>0.0</td><td>0.0</td><td>0.0</td><td>0.0</td><td>0.0</td><td>0.0</td><td>0.0</td><td>0.0</td><td>0.0</td></tr><tr><td>&quot;mean&quot;</td><td>5592.159821</td><td>1968.805804</td><td>null</td><td>null</td><td>52247.251354</td><td>0.444196</td><td>0.50625</td><td>null</td><td>49.109375</td><td>303.935714</td><td>26.302232</td><td>166.95</td><td>37.525446</td><td>27.062946</td><td>44.021875</td><td>2.325</td><td>4.084821</td><td>2.662054</td><td>5.790179</td><td>5.316518</td><td>0.072768</td><td>0.074554</td><td>0.072768</td><td>0.064286</td><td>0.013393</td><td>0.009375</td><td>3.0</td><td>11.0</td><td>0.149107</td></tr><tr><td>&quot;std&quot;</td><td>3246.662198</td><td>11.984069</td><td>null</td><td>null</td><td>25173.076661</td><td>0.538398</td><td>0.544538</td><td>null</td><td>28.962453</td><td>336.597393</td><td>39.773434</td><td>225.715373</td><td>54.628979</td><td>41.280498</td><td>52.167439</td><td>1.932238</td><td>2.778714</td><td>2.923101</td><td>3.250958</td><td>2.426645</td><td>0.259813</td><td>0.262728</td><td>0.259813</td><td>0.245316</td><td>0.114976</td><td>0.096391</td><td>0.0</td><td>0.0</td><td>0.356274</td></tr><tr><td>&quot;min&quot;</td><td>0.0</td><td>1893.0</td><td>&quot;2n Cycle&quot;</td><td>&quot;Absurd&quot;</td><td>1730.0</td><td>0.0</td><td>0.0</td><td>&quot;01-01-2013&quot;</td><td>0.0</td><td>0.0</td><td>0.0</td><td>0.0</td><td>0.0</td><td>0.0</td><td>0.0</td><td>0.0</td><td>0.0</td><td>0.0</td><td>0.0</td><td>0.0</td><td>0.0</td><td>0.0</td><td>0.0</td><td>0.0</td><td>0.0</td><td>0.0</td><td>3.0</td><td>11.0</td><td>0.0</td></tr><tr><td>&quot;25%&quot;</td><td>2829.0</td><td>1959.0</td><td>null</td><td>null</td><td>35322.0</td><td>0.0</td><td>0.0</td><td>null</td><td>24.0</td><td>24.0</td><td>1.0</td><td>16.0</td><td>3.0</td><td>1.0</td><td>9.0</td><td>1.0</td><td>2.0</td><td>0.0</td><td>3.0</td><td>3.0</td><td>0.0</td><td>0.0</td><td>0.0</td><td>0.0</td><td>0.0</td><td>0.0</td><td>3.0</td><td>11.0</td><td>0.0</td></tr><tr><td>&quot;50%&quot;</td><td>5462.0</td><td>1970.0</td><td>null</td><td>null</td><td>51390.0</td><td>0.0</td><td>0.0</td><td>null</td><td>49.0</td><td>174.0</td><td>8.0</td><td>67.0</td><td>12.0</td><td>8.0</td><td>24.0</td><td>2.0</td><td>4.0</td><td>2.0</td><td>5.0</td><td>6.0</td><td>0.0</td><td>0.0</td><td>0.0</td><td>0.0</td><td>0.0</td><td>0.0</td><td>3.0</td><td>11.0</td><td>0.0</td></tr><tr><td>&quot;75%&quot;</td><td>8427.0</td><td>1977.0</td><td>null</td><td>null</td><td>68487.0</td><td>1.0</td><td>1.0</td><td>null</td><td>74.0</td><td>504.0</td><td>33.0</td><td>232.0</td><td>50.0</td><td>33.0</td><td>56.0</td><td>3.0</td><td>6.0</td><td>4.0</td><td>8.0</td><td>7.0</td><td>0.0</td><td>0.0</td><td>0.0</td><td>0.0</td><td>0.0</td><td>0.0</td><td>3.0</td><td>11.0</td><td>0.0</td></tr><tr><td>&quot;max&quot;</td><td>11191.0</td><td>1996.0</td><td>&quot;PhD&quot;</td><td>&quot;YOLO&quot;</td><td>666666.0</td><td>2.0</td><td>2.0</td><td>&quot;31-12-2013&quot;</td><td>99.0</td><td>1493.0</td><td>199.0</td><td>1725.0</td><td>259.0</td><td>263.0</td><td>362.0</td><td>15.0</td><td>27.0</td><td>28.0</td><td>13.0</td><td>20.0</td><td>1.0</td><td>1.0</td><td>1.0</td><td>1.0</td><td>1.0</td><td>1.0</td><td>3.0</td><td>11.0</td><td>1.0</td></tr></tbody></table></div>"
      ]
     },
     "execution_count": 167,
     "metadata": {},
     "output_type": "execute_result"
    }
   ],
   "execution_count": 167
  },
  {
   "metadata": {
    "ExecuteTime": {
     "end_time": "2025-01-23T01:51:16.779228Z",
     "start_time": "2025-01-23T01:51:16.711443Z"
    }
   },
   "cell_type": "code",
   "source": [
    "df = preprocess(df)\n",
    "df, df_unencoded = encode(df)\n",
    "df = scale(df)"
   ],
   "id": "9d198a2114623e26",
   "outputs": [],
   "execution_count": 168
  },
  {
   "metadata": {
    "ExecuteTime": {
     "end_time": "2025-01-23T01:51:16.863706Z",
     "start_time": "2025-01-23T01:51:16.858417Z"
    }
   },
   "cell_type": "code",
   "source": "df",
   "id": "e9f6adf5d98b56c6",
   "outputs": [
    {
     "data": {
      "text/plain": [
       "array([[-0.0209985 , -0.98534473, -1.39422628, ...,  0.        ,\n",
       "         0.        ,  2.38884634],\n",
       "       [-1.05305783, -1.23573295, -1.39422628, ...,  0.        ,\n",
       "         0.        , -0.41861211],\n",
       "       [-0.44706956, -0.3176428 , -0.46280163, ...,  0.        ,\n",
       "         0.        , -0.41861211],\n",
       "       ...,\n",
       "       [ 0.51690466,  1.01776106,  1.40004769, ...,  0.        ,\n",
       "         0.        , -0.41861211],\n",
       "       [ 0.81419936, -1.06880747, -0.46280163, ...,  0.        ,\n",
       "         0.        , -0.41861211],\n",
       "       [ 1.17464994, -1.23573295,  0.46862303, ...,  0.        ,\n",
       "         0.        ,  2.38884634]], shape=(2240, 28))"
      ]
     },
     "execution_count": 169,
     "metadata": {},
     "output_type": "execute_result"
    }
   ],
   "execution_count": 169
  },
  {
   "metadata": {
    "ExecuteTime": {
     "end_time": "2025-01-23T01:51:17.100889Z",
     "start_time": "2025-01-23T01:51:17.098496Z"
    }
   },
   "cell_type": "code",
   "source": "",
   "id": "1bb7d90e8c4cc7e6",
   "outputs": [],
   "execution_count": null
  }
 ],
 "metadata": {
  "kernelspec": {
   "display_name": "Python 3",
   "language": "python",
   "name": "python3"
  },
  "language_info": {
   "codemirror_mode": {
    "name": "ipython",
    "version": 2
   },
   "file_extension": ".py",
   "mimetype": "text/x-python",
   "name": "python",
   "nbconvert_exporter": "python",
   "pygments_lexer": "ipython2",
   "version": "2.7.6"
  }
 },
 "nbformat": 4,
 "nbformat_minor": 5
}
