{
 "cells": [
  {
   "cell_type": "code",
   "id": "initial_id",
   "metadata": {
    "collapsed": true,
    "ExecuteTime": {
     "end_time": "2025-01-22T19:57:32.926285Z",
     "start_time": "2025-01-22T19:57:32.113789Z"
    }
   },
   "source": [
    "import polars as pl\n",
    "from enum import Enum\n",
    "from sklearn import metrics\n",
    "from sklearn.cluster import KMeans"
   ],
   "outputs": [],
   "execution_count": 1
  },
  {
   "metadata": {
    "ExecuteTime": {
     "end_time": "2025-01-22T20:01:59.936689Z",
     "start_time": "2025-01-22T20:01:59.931882Z"
    }
   },
   "cell_type": "code",
   "source": [
    "class Path(Enum):\n",
    "    DATA: str = 'files/marketing_campaign.csv'\n",
    "    DATA_SEP: str = '\\t'"
   ],
   "id": "8e638bcfd8d1f48a",
   "outputs": [],
   "execution_count": 13
  },
  {
   "metadata": {
    "ExecuteTime": {
     "end_time": "2025-01-22T20:02:00.744343Z",
     "start_time": "2025-01-22T20:02:00.737446Z"
    }
   },
   "cell_type": "code",
   "source": [
    "def load_dataset(path: str, sep: str) -> pl.DataFrame:\n",
    "    return pl.read_csv(source=path, separator=sep, )"
   ],
   "id": "841652282fd2e154",
   "outputs": [],
   "execution_count": 14
  },
  {
   "metadata": {
    "ExecuteTime": {
     "end_time": "2025-01-22T20:02:02.038018Z",
     "start_time": "2025-01-22T20:02:02.022099Z"
    }
   },
   "cell_type": "code",
   "source": "load_dataset(Path.DATA.value, Path.DATA_SEP.value)",
   "id": "cfe0ff9a10de2530",
   "outputs": [
    {
     "data": {
      "text/plain": [
       "shape: (2_240, 29)\n",
       "┌───────┬────────────┬────────────┬─────────────┬───┬──────────┬────────────┬───────────┬──────────┐\n",
       "│ ID    ┆ Year_Birth ┆ Education  ┆ Marital_Sta ┆ … ┆ Complain ┆ Z_CostCont ┆ Z_Revenue ┆ Response │\n",
       "│ ---   ┆ ---        ┆ ---        ┆ tus         ┆   ┆ ---      ┆ act        ┆ ---       ┆ ---      │\n",
       "│ i64   ┆ i64        ┆ str        ┆ ---         ┆   ┆ i64      ┆ ---        ┆ i64       ┆ i64      │\n",
       "│       ┆            ┆            ┆ str         ┆   ┆          ┆ i64        ┆           ┆          │\n",
       "╞═══════╪════════════╪════════════╪═════════════╪═══╪══════════╪════════════╪═══════════╪══════════╡\n",
       "│ 5524  ┆ 1957       ┆ Graduation ┆ Single      ┆ … ┆ 0        ┆ 3          ┆ 11        ┆ 1        │\n",
       "│ 2174  ┆ 1954       ┆ Graduation ┆ Single      ┆ … ┆ 0        ┆ 3          ┆ 11        ┆ 0        │\n",
       "│ 4141  ┆ 1965       ┆ Graduation ┆ Together    ┆ … ┆ 0        ┆ 3          ┆ 11        ┆ 0        │\n",
       "│ 6182  ┆ 1984       ┆ Graduation ┆ Together    ┆ … ┆ 0        ┆ 3          ┆ 11        ┆ 0        │\n",
       "│ 5324  ┆ 1981       ┆ PhD        ┆ Married     ┆ … ┆ 0        ┆ 3          ┆ 11        ┆ 0        │\n",
       "│ …     ┆ …          ┆ …          ┆ …           ┆ … ┆ …        ┆ …          ┆ …         ┆ …        │\n",
       "│ 10870 ┆ 1967       ┆ Graduation ┆ Married     ┆ … ┆ 0        ┆ 3          ┆ 11        ┆ 0        │\n",
       "│ 4001  ┆ 1946       ┆ PhD        ┆ Together    ┆ … ┆ 0        ┆ 3          ┆ 11        ┆ 0        │\n",
       "│ 7270  ┆ 1981       ┆ Graduation ┆ Divorced    ┆ … ┆ 0        ┆ 3          ┆ 11        ┆ 0        │\n",
       "│ 8235  ┆ 1956       ┆ Master     ┆ Together    ┆ … ┆ 0        ┆ 3          ┆ 11        ┆ 0        │\n",
       "│ 9405  ┆ 1954       ┆ PhD        ┆ Married     ┆ … ┆ 0        ┆ 3          ┆ 11        ┆ 1        │\n",
       "└───────┴────────────┴────────────┴─────────────┴───┴──────────┴────────────┴───────────┴──────────┘"
      ],
      "text/html": [
       "<div><style>\n",
       ".dataframe > thead > tr,\n",
       ".dataframe > tbody > tr {\n",
       "  text-align: right;\n",
       "  white-space: pre-wrap;\n",
       "}\n",
       "</style>\n",
       "<small>shape: (2_240, 29)</small><table border=\"1\" class=\"dataframe\"><thead><tr><th>ID</th><th>Year_Birth</th><th>Education</th><th>Marital_Status</th><th>Income</th><th>Kidhome</th><th>Teenhome</th><th>Dt_Customer</th><th>Recency</th><th>MntWines</th><th>MntFruits</th><th>MntMeatProducts</th><th>MntFishProducts</th><th>MntSweetProducts</th><th>MntGoldProds</th><th>NumDealsPurchases</th><th>NumWebPurchases</th><th>NumCatalogPurchases</th><th>NumStorePurchases</th><th>NumWebVisitsMonth</th><th>AcceptedCmp3</th><th>AcceptedCmp4</th><th>AcceptedCmp5</th><th>AcceptedCmp1</th><th>AcceptedCmp2</th><th>Complain</th><th>Z_CostContact</th><th>Z_Revenue</th><th>Response</th></tr><tr><td>i64</td><td>i64</td><td>str</td><td>str</td><td>i64</td><td>i64</td><td>i64</td><td>str</td><td>i64</td><td>i64</td><td>i64</td><td>i64</td><td>i64</td><td>i64</td><td>i64</td><td>i64</td><td>i64</td><td>i64</td><td>i64</td><td>i64</td><td>i64</td><td>i64</td><td>i64</td><td>i64</td><td>i64</td><td>i64</td><td>i64</td><td>i64</td><td>i64</td></tr></thead><tbody><tr><td>5524</td><td>1957</td><td>&quot;Graduation&quot;</td><td>&quot;Single&quot;</td><td>58138</td><td>0</td><td>0</td><td>&quot;04-09-2012&quot;</td><td>58</td><td>635</td><td>88</td><td>546</td><td>172</td><td>88</td><td>88</td><td>3</td><td>8</td><td>10</td><td>4</td><td>7</td><td>0</td><td>0</td><td>0</td><td>0</td><td>0</td><td>0</td><td>3</td><td>11</td><td>1</td></tr><tr><td>2174</td><td>1954</td><td>&quot;Graduation&quot;</td><td>&quot;Single&quot;</td><td>46344</td><td>1</td><td>1</td><td>&quot;08-03-2014&quot;</td><td>38</td><td>11</td><td>1</td><td>6</td><td>2</td><td>1</td><td>6</td><td>2</td><td>1</td><td>1</td><td>2</td><td>5</td><td>0</td><td>0</td><td>0</td><td>0</td><td>0</td><td>0</td><td>3</td><td>11</td><td>0</td></tr><tr><td>4141</td><td>1965</td><td>&quot;Graduation&quot;</td><td>&quot;Together&quot;</td><td>71613</td><td>0</td><td>0</td><td>&quot;21-08-2013&quot;</td><td>26</td><td>426</td><td>49</td><td>127</td><td>111</td><td>21</td><td>42</td><td>1</td><td>8</td><td>2</td><td>10</td><td>4</td><td>0</td><td>0</td><td>0</td><td>0</td><td>0</td><td>0</td><td>3</td><td>11</td><td>0</td></tr><tr><td>6182</td><td>1984</td><td>&quot;Graduation&quot;</td><td>&quot;Together&quot;</td><td>26646</td><td>1</td><td>0</td><td>&quot;10-02-2014&quot;</td><td>26</td><td>11</td><td>4</td><td>20</td><td>10</td><td>3</td><td>5</td><td>2</td><td>2</td><td>0</td><td>4</td><td>6</td><td>0</td><td>0</td><td>0</td><td>0</td><td>0</td><td>0</td><td>3</td><td>11</td><td>0</td></tr><tr><td>5324</td><td>1981</td><td>&quot;PhD&quot;</td><td>&quot;Married&quot;</td><td>58293</td><td>1</td><td>0</td><td>&quot;19-01-2014&quot;</td><td>94</td><td>173</td><td>43</td><td>118</td><td>46</td><td>27</td><td>15</td><td>5</td><td>5</td><td>3</td><td>6</td><td>5</td><td>0</td><td>0</td><td>0</td><td>0</td><td>0</td><td>0</td><td>3</td><td>11</td><td>0</td></tr><tr><td>&hellip;</td><td>&hellip;</td><td>&hellip;</td><td>&hellip;</td><td>&hellip;</td><td>&hellip;</td><td>&hellip;</td><td>&hellip;</td><td>&hellip;</td><td>&hellip;</td><td>&hellip;</td><td>&hellip;</td><td>&hellip;</td><td>&hellip;</td><td>&hellip;</td><td>&hellip;</td><td>&hellip;</td><td>&hellip;</td><td>&hellip;</td><td>&hellip;</td><td>&hellip;</td><td>&hellip;</td><td>&hellip;</td><td>&hellip;</td><td>&hellip;</td><td>&hellip;</td><td>&hellip;</td><td>&hellip;</td><td>&hellip;</td></tr><tr><td>10870</td><td>1967</td><td>&quot;Graduation&quot;</td><td>&quot;Married&quot;</td><td>61223</td><td>0</td><td>1</td><td>&quot;13-06-2013&quot;</td><td>46</td><td>709</td><td>43</td><td>182</td><td>42</td><td>118</td><td>247</td><td>2</td><td>9</td><td>3</td><td>4</td><td>5</td><td>0</td><td>0</td><td>0</td><td>0</td><td>0</td><td>0</td><td>3</td><td>11</td><td>0</td></tr><tr><td>4001</td><td>1946</td><td>&quot;PhD&quot;</td><td>&quot;Together&quot;</td><td>64014</td><td>2</td><td>1</td><td>&quot;10-06-2014&quot;</td><td>56</td><td>406</td><td>0</td><td>30</td><td>0</td><td>0</td><td>8</td><td>7</td><td>8</td><td>2</td><td>5</td><td>7</td><td>0</td><td>0</td><td>0</td><td>1</td><td>0</td><td>0</td><td>3</td><td>11</td><td>0</td></tr><tr><td>7270</td><td>1981</td><td>&quot;Graduation&quot;</td><td>&quot;Divorced&quot;</td><td>56981</td><td>0</td><td>0</td><td>&quot;25-01-2014&quot;</td><td>91</td><td>908</td><td>48</td><td>217</td><td>32</td><td>12</td><td>24</td><td>1</td><td>2</td><td>3</td><td>13</td><td>6</td><td>0</td><td>1</td><td>0</td><td>0</td><td>0</td><td>0</td><td>3</td><td>11</td><td>0</td></tr><tr><td>8235</td><td>1956</td><td>&quot;Master&quot;</td><td>&quot;Together&quot;</td><td>69245</td><td>0</td><td>1</td><td>&quot;24-01-2014&quot;</td><td>8</td><td>428</td><td>30</td><td>214</td><td>80</td><td>30</td><td>61</td><td>2</td><td>6</td><td>5</td><td>10</td><td>3</td><td>0</td><td>0</td><td>0</td><td>0</td><td>0</td><td>0</td><td>3</td><td>11</td><td>0</td></tr><tr><td>9405</td><td>1954</td><td>&quot;PhD&quot;</td><td>&quot;Married&quot;</td><td>52869</td><td>1</td><td>1</td><td>&quot;15-10-2012&quot;</td><td>40</td><td>84</td><td>3</td><td>61</td><td>2</td><td>1</td><td>21</td><td>3</td><td>3</td><td>1</td><td>4</td><td>7</td><td>0</td><td>0</td><td>0</td><td>0</td><td>0</td><td>0</td><td>3</td><td>11</td><td>1</td></tr></tbody></table></div>"
      ]
     },
     "execution_count": 15,
     "metadata": {},
     "output_type": "execute_result"
    }
   ],
   "execution_count": 15
  }
 ],
 "metadata": {
  "kernelspec": {
   "display_name": "Python 3",
   "language": "python",
   "name": "python3"
  },
  "language_info": {
   "codemirror_mode": {
    "name": "ipython",
    "version": 2
   },
   "file_extension": ".py",
   "mimetype": "text/x-python",
   "name": "python",
   "nbconvert_exporter": "python",
   "pygments_lexer": "ipython2",
   "version": "2.7.6"
  }
 },
 "nbformat": 4,
 "nbformat_minor": 5
}
